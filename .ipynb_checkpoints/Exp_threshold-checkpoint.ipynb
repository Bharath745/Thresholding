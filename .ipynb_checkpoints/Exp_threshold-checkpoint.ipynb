{
 "cells": [
  {
   "cell_type": "code",
   "execution_count": null,
   "metadata": {},
   "outputs": [],
   "source": [
    "# Import necessary packages\n",
    "import cv2\n",
    "import numpy as np\n",
    "import matplotlib.pyplot as plt"
   ]
  },
  {
   "cell_type": "code",
   "execution_count": null,
   "metadata": {},
   "outputs": [],
   "source": [
    "# Read the image and Convert to gray scale\n",
    "image=cv2.imread(\"img.jpg\",1)\n",
    "image=cv2.cvtColor(image,cv2.COLOR_BGR2RGB)\n",
    "image_gray=cv2.imread(\"img.jpg\",0)\n"
   ]
  },
  {
   "cell_type": "code",
   "execution_count": null,
   "metadata": {},
   "outputs": [],
   "source": [
    "# Global thresholding\n",
    "# cv2.threshold(image, threshold_value, max_val, thresholding_technique)\n",
    "ret,thresh_img1=cv2.threshold(image_gray,86,255,cv2.THRESH_BINARY)\n",
    "ret,thresh_img2=cv2.threshold(image_gray,86,255,cv2.THRESH_BINARY_INV)\n",
    "ret,thresh_img3=cv2.threshold(image_gray,86,255,cv2.THRESH_TOZERO)\n",
    "ret,thresh_img4=cv2.threshold(image_gray,86,255,cv2.THRESH_TOZERO_INV)\n",
    "ret,thresh_img5=cv2.threshold(image_gray,100,255,cv2.THRESH_TRUNC)\n",
    "\n",
    "\n",
    "\n",
    "\n"
   ]
  },
  {
   "cell_type": "code",
   "execution_count": null,
   "metadata": {},
   "outputs": [],
   "source": [
    "# Adaptive thresholding\n",
    "# cv2.adaptiveThreshold(source, max_val, adaptive_method, threshold_type, blocksize, constant)\n",
    "thresh_img7=cv2.adaptiveThreshold(image_gray,255,cv2.ADAPTIVE_THRESH_MEAN_C,cv2.THRESH_BINARY,11,2)\n",
    "thresh_img8=cv2.adaptiveThreshold(image_gray,255,cv2.ADAPTIVE_THRESH_GAUSSIAN_C,cv2.THRESH_BINARY,11,2)\n",
    "\n",
    "\n"
   ]
  },
  {
   "cell_type": "code",
   "execution_count": null,
   "metadata": {},
   "outputs": [],
   "source": [
    "# Optimum global thresholding using Otsu's method\n",
    "# cv2.threshold(img,0,255,cv2.THRESH_BINARY+cv2.THRESH_OTSU)\n",
    "\n",
    "\n",
    "\n",
    "\n"
   ]
  },
  {
   "cell_type": "code",
   "execution_count": null,
   "metadata": {},
   "outputs": [],
   "source": []
  }
 ],
 "metadata": {
  "interpreter": {
   "hash": "40d53ad4b78f4cfc6b8e18304c7947a5e19d8b1dfab2ef28d79f547d90fd956b"
  },
  "kernelspec": {
   "display_name": "Python 3",
   "language": "python",
   "name": "python3"
  },
  "language_info": {
   "codemirror_mode": {
    "name": "ipython",
    "version": 3
   },
   "file_extension": ".py",
   "mimetype": "text/x-python",
   "name": "python",
   "nbconvert_exporter": "python",
   "pygments_lexer": "ipython3",
   "version": "3.8.8"
  }
 },
 "nbformat": 4,
 "nbformat_minor": 2
}
